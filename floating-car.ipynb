{
 "cells": [
  {
   "cell_type": "code",
   "execution_count": null,
   "metadata": {
    "collapsed": true
   },
   "outputs": [],
   "source": [
    "import os\n",
    "import numpy as np\n",
    "import pandas as pd\n",
    "import datetime\n",
    "import pandas as pd\n",
    "import matplotlib.pyplot as plt\n",
    "filelist = os.listdir('measurement')\n",
    "filelist.sort()\n",
    "startpoint = np.where(np.array(filelist) == '16157')[0][0]\n",
    "filelist = filelist[startpoint:]\n",
    "\n",
    "data = pd.DataFrame()\n",
    "for fileid in filelist[1:10]:\n",
    "    df = pd.read_csv('measurement/'+fileid+'/tab_fcd.csv')\n",
    "    data = pd.concat([data,df])"
   ]
  },
  {
   "cell_type": "code",
   "execution_count": null,
   "metadata": {
    "collapsed": true
   },
   "outputs": [],
   "source": [
    "df = data[data['ftnode'] =='4697_4694']\n",
    "df = data.copy()\n",
    "df2 = df.groupby(['sj']).count()\n",
    "plt.plot(list(df2.TRAVELID))"
   ]
  },
  {
   "cell_type": "code",
   "execution_count": null,
   "metadata": {
    "collapsed": true
   },
   "outputs": [],
   "source": [
    "import plotly.express as px\n",
    "px.set_mapbox_access_token('pk.eyJ1IjoidG9uZ3hpbnJlbiIsImEiOiJjazZnM2phcXEwdTJ5M2pxcHQ3MDRteHNlIn0.ci2XKyZQRC_tAEcvxVIeAQ')"
   ]
  },
  {
   "cell_type": "code",
   "execution_count": null,
   "metadata": {
    "collapsed": true
   },
   "outputs": [],
   "source": [
    "from pandas.plotting import register_matplotlib_converters\n",
    "register_matplotlib_converters()\n",
    "import matplotlib.pyplot as plt\n",
    "plt.rcParams.update({'font.size': 15})\n",
    "df = data.tail(120000)\n",
    "for ID in df['TRAVELID'].unique()[0:10]:\n",
    "    df3 = df[df['TRAVELID'] == ID]\n",
    "    df3 = df3.sort_values('sj')\n",
    "    df3.index = pd.to_datetime(df3.sj)\n",
    "    plt.figure(figsize = (15,15))\n",
    "    plt.subplot(2,1,1)\n",
    "    plt.plot(df3.longitude,df3.latitude)\n",
    "    plt.xlabel('longitude')\n",
    "    plt.ylabel('latitude')\n",
    "    plt.title('(a)')\n",
    "    plt.subplot(2,1,2)\n",
    "    plt.plot(df3.speed)\n",
    "    plt.xlabel('Time')\n",
    "    plt.ylabel('Speed')\n",
    "    plt.title('(b)')\n",
    "    fig = px.scatter_mapbox(df3, lat=\"latitude\", lon=\"longitude\",\n",
    "                  color_continuous_scale=px.colors.cyclical.IceFire, size_max=15, zoom=10)\n",
    "    fig.show()"
   ]
  },
  {
   "cell_type": "code",
   "execution_count": null,
   "metadata": {
    "collapsed": true
   },
   "outputs": [],
   "source": [
    "plt.hist(data['speed'])"
   ]
  },
  {
   "cell_type": "code",
   "execution_count": null,
   "metadata": {
    "collapsed": true
   },
   "outputs": [],
   "source": [
    "plt.hist(data[data['speed']>0].speed)"
   ]
  },
  {
   "cell_type": "code",
   "execution_count": null,
   "metadata": {
    "collapsed": true
   },
   "outputs": [],
   "source": [
    "import os\n",
    "import numpy as np\n",
    "import pandas as pd\n",
    "import datetime\n",
    "filelist = os.listdir('measurement')\n",
    "filelist.sort()\n",
    "startpoint = np.where(np.array(filelist) == '16157')[0][0]\n",
    "filelist = filelist[startpoint:]\n",
    "filelist\n",
    "\n",
    "df = pd.DataFrame()\n",
    "for fileid in filelist:\n",
    "    data = pd.read_csv('measurement/'+fileid+'/tab_ldt.csv')\n",
    "    df = pd.concat([df,data])"
   ]
  },
  {
   "cell_type": "code",
   "execution_count": null,
   "metadata": {
    "collapsed": true
   },
   "outputs": [],
   "source": [
    "df['Weighted_Speed'] = df['COUNT'] * df['ARITHMETIC_AVERAGE_SPEED']  \n",
    "\n",
    "# Midnight time is generally measured when there are vehicles in the past, the number of vehicles is small, and the speed is unstable, so only the daytime data is selected, for which the time stamp needs to be modified\n",
    "def findTime(x):\n",
    "    return x.time()\n",
    "def findDate(x):\n",
    "    return x.date()\n",
    "df['FROMTIME'] = pd.to_datetime(df['FROMTIME'])\n",
    "df.index = df['FROMTIME']\n",
    "df['FROMTIME-Time'] = df['FROMTIME'].apply(findTime) \n",
    "df['FROMTIME-Date'] = df['FROMTIME'].apply(findDate) \n",
    "\n",
    "\n",
    "# Midnight time is generally measured when there are vehicles in the past, the number of vehicles is small, and the speed is unstable, so only the daytime data is selected, for which the time stamp needs to be modified\n",
    "def findTime(x):\n",
    "    return x.time()\n",
    "def findDate(x):\n",
    "    return x.date()\n",
    "df['FROMTIME'] = pd.to_datetime(df['FROMTIME'])\n",
    "df.index = df['FROMTIME']\n",
    "df['FROMTIME-Time'] = df['FROMTIME'].apply(findTime)  \n",
    "df['FROMTIME-Date'] = df['FROMTIME'].apply(findDate)  "
   ]
  },
  {
   "cell_type": "code",
   "execution_count": null,
   "metadata": {
    "collapsed": true
   },
   "outputs": [],
   "source": [
    "for ID in df[\"DEVICEID\"].unique():\n",
    "    df1=df[df[\"DEVICEID\"]==ID]\n",
    "    xianquan = df1.copy() \n",
    "    \n",
    "    xianquan=xianquan[(pd.to_datetime(xianquan[\"FROMTIME-Time\"],\n",
    "                                      format = '%H:%M:%S')>= pd.to_datetime('07:00:00',format = '%H:%M:%S'))&\n",
    "                      (pd.to_datetime(xianquan[\"FROMTIME-Time\"],format = '%H:%M:%S')<= pd.to_datetime('12:00:00',format = '%H:%M:%S'))]\n",
    "    xianquan['FROMTIME'] = pd.to_datetime(xianquan['FROMTIME'])\n",
    "    xianquan.index = xianquan['FROMTIME']\n",
    "\n",
    "    interval = 5 \n",
    "    data_sum= xianquan.resample(datetime.timedelta(seconds=interval *60)).sum()\n",
    "    data_sum['Average_Speed'] = data_sum['Weighted_Speed'] / data_sum['COUNT']\n",
    "    data_sum['rho'] = data_sum['FLOW'] / data_sum['Average_Speed']/(interval/60)\n",
    "    \n",
    "    plt.figure()\n",
    "    plt.scatter(data_sum['rho'],data_sum['Average_Speed'])\n",
    "    plt.xlabel('rho')\n",
    "    plt.ylabel('Average_Speed')\n",
    "    plt.title(str(ID))"
   ]
  },
  {
   "cell_type": "code",
   "execution_count": null,
   "metadata": {
    "collapsed": true
   },
   "outputs": [],
   "source": [
    "import plotly.express as px\n",
    "px.set_mapbox_access_token('pk.eyJ1IjoidG9uZ3hpbnJlbiIsImEiOiJjazZnM2phcXEwdTJ5M2pxcHQ3MDRteHNlIn0.ci2XKyZQRC_tAEcvxVIeAQ')"
   ]
  },
  {
   "cell_type": "code",
   "execution_count": null,
   "metadata": {
    "collapsed": true
   },
   "outputs": [],
   "source": [
    "import os\n",
    "import numpy as np\n",
    "import pandas as pd\n",
    "import datetime\n",
    "import pandas as pd\n",
    "import matplotlib.pyplot as plt\n",
    "filelist = os.listdir('measurement')\n",
    "filelist.sort()\n",
    "startpoint = np.where(np.array(filelist) == '16157')[0][0]\n",
    "filelist = filelist[startpoint:]\n",
    "\n",
    "data = pd.DataFrame()\n",
    "for fileid in filelist[1:3]:\n",
    "    df = pd.read_csv('measurement/'+fileid+'/tab_fcd.csv')\n",
    "    data = pd.concat([data,df])"
   ]
  },
  {
   "cell_type": "markdown",
   "metadata": {},
   "source": [
    "### Floating car map match"
   ]
  },
  {
   "cell_type": "code",
   "execution_count": null,
   "metadata": {
    "collapsed": true
   },
   "outputs": [],
   "source": [
    "data['sj'] = pd.to_datetime(data['sj'])\n",
    "for i in data.TRAVELID.unique()[0:10]:\n",
    "    df = data[data['TRAVELID'] == i]\n",
    "    df = df.sort_values('sj')\n",
    "    df['sj'] = df['sj'].astype(str)\n",
    "    fig = px.line_mapbox(df, lat=\"latitude\", lon=\"longitude\",zoom=10,hover_data=['sj','speed',])\n",
    "    fig.show()\n",
    "\n",
    "    fig = px.line(df,y = 'speed')\n",
    "    fig.show()"
   ]
  },
  {
   "cell_type": "code",
   "execution_count": null,
   "metadata": {
    "collapsed": true
   },
   "outputs": [],
   "source": [
    "df = data[data.sj.isin(data.sj.unique()[0:3])]\n",
    "fig = px.scatter_mapbox(df, lat=\"latitude\", lon=\"longitude\",color = 'sj',zoom=10,hover_data=['TRAVELID','speed','ftnode'])\n",
    "fig.show()"
   ]
  },
  {
   "cell_type": "markdown",
   "metadata": {},
   "source": [
    "### number of vehicles on each road section"
   ]
  },
  {
   "cell_type": "code",
   "execution_count": null,
   "metadata": {
    "collapsed": true
   },
   "outputs": [],
   "source": [
    "df = data[data.sj.isin(data.sj.unique()[0:1])]\n",
    "fig = px.scatter_mapbox(df, lat=\"latitude\", lon=\"longitude\",color = 'ftnode',zoom=10,hover_data=['TRAVELID','speed','ftnode'])\n",
    "fig.show()"
   ]
  }
 ],
 "metadata": {
  "anaconda-cloud": {},
  "kernelspec": {
   "display_name": "Python 3",
   "language": "python",
   "name": "python3"
  },
  "language_info": {
   "codemirror_mode": {
    "name": "ipython",
    "version": 3
   },
   "file_extension": ".py",
   "mimetype": "text/x-python",
   "name": "python",
   "nbconvert_exporter": "python",
   "pygments_lexer": "ipython3",
   "version": "3.8.5"
  }
 },
 "nbformat": 4,
 "nbformat_minor": 2
}
